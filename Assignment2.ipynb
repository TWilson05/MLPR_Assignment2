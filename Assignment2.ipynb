{
 "cells": [
  {
   "cell_type": "markdown",
   "metadata": {},
   "source": [
    "# Assignment 2"
   ]
  },
  {
   "cell_type": "markdown",
   "metadata": {},
   "source": [
    "Importing Data"
   ]
  },
  {
   "cell_type": "code",
   "execution_count": 2,
   "metadata": {},
   "outputs": [],
   "source": [
    "import numpy as np\n",
    "data = np.load('DATA/ct_data.npz')\n",
    "X_train = data['X_train']; X_val = data['X_val']; X_test = data['X_test']\n",
    "y_train = data['y_train']; y_val = data['y_val']; y_test = data['y_test']"
   ]
  },
  {
   "cell_type": "markdown",
   "metadata": {},
   "source": [
    "Question 1a"
   ]
  },
  {
   "cell_type": "code",
   "execution_count": 19,
   "metadata": {},
   "outputs": [
    {
     "name": "stdout",
     "output_type": "stream",
     "text": [
      "The mean on y_train is -0.0.\n",
      "The mean in y_val is -0.21600851 +/- 0.01290338.\n",
      "The mean on the first 5785 entries in y_train is -0.44247688 +/- 0.01192627.\n"
     ]
    }
   ],
   "source": [
    "#defining a function to calculate standard error\n",
    "def cal_se(data):\n",
    "    std = np.std(data)\n",
    "    se = std/ (len(data)**(1/2))\n",
    "    return se\n",
    "\n",
    "#verifying the mean on the training set is zero\n",
    "print(f'The mean on y_train is {round(np.mean(y_train), 8)}.')\n",
    "print(f'The mean in y_val is {round(np.mean(y_val),8)} +/- {round(cal_se(y_val), 8)}.')\n",
    "\n",
    "print(f'The mean on the first 5785 entries in y_train is {round(np.mean(y_train[:5785]), 8)} +/- {round(cal_se(y_train[:5785]),8)}.')\n",
    "#used 8 decimal places as that is the pattern of the data"
   ]
  },
  {
   "cell_type": "markdown",
   "metadata": {},
   "source": [
    "The standard errors on the mean values of the first 5785 entries of training and the validation dataset suggest that even the edge cases of the mean of the two sets does not meet the overal population mean values. The standard error bars are misleading here because they do not align to what the population mean is??? "
   ]
  },
  {
   "cell_type": "markdown",
   "metadata": {},
   "source": [
    "Question 1 b"
   ]
  },
  {
   "cell_type": "code",
   "execution_count": 91,
   "metadata": {},
   "outputs": [
    {
     "name": "stdout",
     "output_type": "stream",
     "text": [
      "(40754, 373) (5785, 373) (6961, 373)\n"
     ]
    }
   ],
   "source": [
    "isConstant = []\n",
    "isDuplicates = np.array(np.zeros(X_train.shape[1]), dtype='bool') \n",
    "\n",
    "#identify all the constant columns\n",
    "for i in range(X_train.shape[1]) :\n",
    "    isConstant.append((X_train[:,i] == X_train[0][i]).all())\n",
    "\n",
    "#identify all the columns which are duplicates to previous columns\n",
    "for i in range(X_train.shape[1]) :\n",
    "    for k in range(i+1, X_train.shape[1]) :\n",
    "        if isDuplicates[k] == False:\n",
    "            isDuplicates[k] = (X_train[:,i] == X_train[:,k]).all()\n",
    "\n",
    "#create a list with all the columns to remove\n",
    "columns_to_remove = np.unique(np.hstack((np.nonzero(isDuplicates)[0], np.nonzero(isConstant)[0])))\n",
    "\n",
    "#remove these columns and name them modified datasets\n",
    "X_train_mod = np.delete(X_train, columns_to_remove ,1)\n",
    "X_val_mod = np.delete(X_val, columns_to_remove ,1)\n",
    "X_test_mod = np.delete(X_test, columns_to_remove ,1)\n",
    "\n",
    "#check if the shape still aligns to expectations (number of rows stay the same, number of columns are same for all three sets)\n",
    "print(X_train_mod.shape, X_val_mod.shape, X_test_mod.shape)"
   ]
  }
 ],
 "metadata": {
  "kernelspec": {
   "display_name": "base",
   "language": "python",
   "name": "python3"
  },
  "language_info": {
   "codemirror_mode": {
    "name": "ipython",
    "version": 3
   },
   "file_extension": ".py",
   "mimetype": "text/x-python",
   "name": "python",
   "nbconvert_exporter": "python",
   "pygments_lexer": "ipython3",
   "version": "3.11.4"
  }
 },
 "nbformat": 4,
 "nbformat_minor": 2
}
