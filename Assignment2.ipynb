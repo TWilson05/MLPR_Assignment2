{
 "cells": [
  {
   "cell_type": "markdown",
   "metadata": {},
   "source": [
    "# Assignment 2"
   ]
  },
  {
   "cell_type": "markdown",
   "metadata": {},
   "source": [
    "Importing Data"
   ]
  },
  {
   "cell_type": "code",
   "execution_count": 31,
   "metadata": {},
   "outputs": [],
   "source": [
    "import numpy as np\n",
    "from scipy.optimize import minimize\n",
    "from scipy.linalg import cho_factor, cho_solve\n",
    "data = np.load('DATA/ct_data.npz')\n",
    "X_train = data['X_train']; X_val = data['X_val']; X_test = data['X_test']\n",
    "y_train = data['y_train']; y_val = data['y_val']; y_test = data['y_test']"
   ]
  },
  {
   "cell_type": "code",
   "execution_count": 32,
   "metadata": {},
   "outputs": [
    {
     "name": "stdout",
     "output_type": "stream",
     "text": [
      "X_train shape: (40754, 384)\n",
      "y_train shape: (40754,)\n"
     ]
    }
   ],
   "source": [
    "print(f'X_train shape: {X_train.shape}')\n",
    "print(f'y_train shape: {y_train.shape}')"
   ]
  },
  {
   "cell_type": "markdown",
   "metadata": {},
   "source": [
    "Question 1a"
   ]
  },
  {
   "cell_type": "code",
   "execution_count": 33,
   "metadata": {},
   "outputs": [
    {
     "name": "stdout",
     "output_type": "stream",
     "text": [
      "The mean on y_train is -0.0.\n",
      "The mean in y_val is -0.21600851 +/- 0.01290338.\n",
      "The mean on the first 5785 entries in y_train is -0.44247688 +/- 0.01192627.\n"
     ]
    }
   ],
   "source": [
    "#defining a function to calculate standard error\n",
    "def cal_se(data):\n",
    "    std = np.std(data)\n",
    "    se = std/ (len(data)**(1/2))\n",
    "    return se\n",
    "\n",
    "#verifying the mean on the training set is zero\n",
    "print(f'The mean on y_train is {round(np.mean(y_train), 8)}.')\n",
    "print(f'The mean in y_val is {round(np.mean(y_val),8)} +/- {round(cal_se(y_val), 8)}.')\n",
    "\n",
    "print(f'The mean on the first 5785 entries in y_train is {round(np.mean(y_train[:5785]), 8)} +/- {round(cal_se(y_train[:5785]),8)}.')\n",
    "#used 8 decimal places as that is the pattern of the data"
   ]
  },
  {
   "cell_type": "markdown",
   "metadata": {},
   "source": [
    "The standard errors on the mean values of the first 5785 entries of training and the validation dataset suggest that even the edge cases of the mean of the two sets does not meet the overal population mean values. The standard error bars are misleading here because they do not align to what the population mean is??? "
   ]
  },
  {
   "cell_type": "markdown",
   "metadata": {},
   "source": [
    "Question 1b"
   ]
  },
  {
   "cell_type": "code",
   "execution_count": 34,
   "metadata": {},
   "outputs": [
    {
     "name": "stdout",
     "output_type": "stream",
     "text": [
      "(40754, 373) (5785, 373) (6961, 373)\n",
      "constant columns: [ 59  69 179 189 351]\n",
      "duplicate columns: [ 69  78  79 179 188 189 199 287 351 359]\n"
     ]
    }
   ],
   "source": [
    "isConstant = []\n",
    "isDuplicates = np.array(np.zeros(X_train.shape[1]), dtype='bool') \n",
    "\n",
    "#identify all the constant columns\n",
    "for i in range(X_train.shape[1]) :\n",
    "    isConstant.append((X_train[:,i] == X_train[0][i]).all())\n",
    "\n",
    "#identify all the columns which are duplicates to previous columns\n",
    "for i in range(X_train.shape[1]) :\n",
    "    for k in range(i+1, X_train.shape[1]) :\n",
    "        if isDuplicates[k] == False:\n",
    "            isDuplicates[k] = (X_train[:,i] == X_train[:,k]).all()\n",
    "\n",
    "#create a list with all the columns to remove\n",
    "columns_to_remove = np.unique(np.hstack((np.nonzero(isDuplicates)[0], np.nonzero(isConstant)[0])))\n",
    "\n",
    "#remove these columns and name them modified datasets\n",
    "X_train_mod = np.delete(X_train, columns_to_remove ,1)\n",
    "X_val_mod = np.delete(X_val, columns_to_remove ,1)\n",
    "X_test_mod = np.delete(X_test, columns_to_remove ,1)\n",
    "\n",
    "#check if the shape still aligns to expectations (number of rows stay the same, number of columns are same for all three sets)\n",
    "print(X_train_mod.shape, X_val_mod.shape, X_test_mod.shape)\n",
    "# print list of removed columns\n",
    "print(f'constant columns: {np.nonzero(isConstant)[0]}')\n",
    "print(f'duplicate columns: {np.nonzero(isDuplicates)[0]}')"
   ]
  },
  {
   "cell_type": "markdown",
   "metadata": {},
   "source": [
    "Question 2"
   ]
  },
  {
   "cell_type": "markdown",
   "metadata": {},
   "source": [
    "We want to set up the following matrix equation to solve for the weights and bias of the linear regression model.\n",
    "$$ \\tilde{\\Phi}=\\left[\\begin{matrix} X_{N\\times D} & 1_{N\\times 1}\\\\ \\sqrt{\\alpha}\\mathbb{I}_{D\\times D} & 0_{D\\times 1} \\end{matrix}\\right],\\quad \\underline{\\tilde{w}}=\\left[\\begin{matrix} w_{D\\times 1}\\\\ b\\end{matrix}\\right],\\quad \\underline{\\tilde{y}}=\\left[\\begin{matrix} y_{D\\times 1}\\\\ 0\\end{matrix}\\right] $$\n",
    "$$ E(\\underline{w},b)=(\\tilde{\\Phi}\\underline{\\tilde{w}}-\\underline{\\tilde{y}})^T(\\tilde{\\Phi}\\underline{\\tilde{w}}-\\underline{\\tilde{y}}) $$"
   ]
  },
  {
   "cell_type": "code",
   "execution_count": 35,
   "metadata": {},
   "outputs": [],
   "source": [
    "def fit_linreg(X, yy, alpha):\n",
    "    # add a column of ones to the X matrix\n",
    "    Phi = np.hstack((X, np.ones((X.shape[0],1))))\n",
    "    # add an identity matrix to the Phi matrix for regularization\n",
    "    # leave the last column as zeros to ignore the bias term\n",
    "    Phi_til = np.vstack((Phi, np.hstack((np.sqrt(alpha)*np.eye(X.shape[1]), np.zeros((X.shape[1],1))))))\n",
    "    # compute the new y vector\n",
    "    yy_til = np.vstack((yy, np.zeros((X.shape[1],1))))\n",
    "    # compute the weights\n",
    "    w = np.linalg.lstsq(Phi_til, yy_til, rcond=None)[0]\n",
    "    return w[:-1], w[-1]"
   ]
  },
  {
   "cell_type": "code",
   "execution_count": 36,
   "metadata": {},
   "outputs": [],
   "source": [
    "w, b = fit_linreg(X_train_mod, y_train[:, np.newaxis], 30)"
   ]
  }
 ],
 "metadata": {
  "kernelspec": {
   "display_name": "base",
   "language": "python",
   "name": "python3"
  },
  "language_info": {
   "codemirror_mode": {
    "name": "ipython",
    "version": 3
   },
   "file_extension": ".py",
   "mimetype": "text/x-python",
   "name": "python",
   "nbconvert_exporter": "python",
   "pygments_lexer": "ipython3",
   "version": "3.10.11"
  }
 },
 "nbformat": 4,
 "nbformat_minor": 2
}
