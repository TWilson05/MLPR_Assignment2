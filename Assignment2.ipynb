{
 "cells": [
  {
   "cell_type": "markdown",
   "metadata": {},
   "source": [
    "# Assignment 2"
   ]
  },
  {
   "cell_type": "markdown",
   "metadata": {},
   "source": [
    "Importing Data"
   ]
  },
  {
   "cell_type": "code",
   "execution_count": 1,
   "metadata": {},
   "outputs": [],
   "source": [
    "import numpy as np\n",
    "from scipy.optimize import minimize\n",
    "from scipy.linalg import cho_factor, cho_solve\n",
    "data = np.load('DATA/ct_data.npz')\n",
    "X_train = data['X_train']; X_val = data['X_val']; X_test = data['X_test']\n",
    "y_train = data['y_train']; y_val = data['y_val']; y_test = data['y_test']"
   ]
  },
  {
   "cell_type": "code",
   "execution_count": 2,
   "metadata": {},
   "outputs": [
    {
     "name": "stdout",
     "output_type": "stream",
     "text": [
      "X_train shape: (40754, 384)\n",
      "y_train shape: (40754,)\n"
     ]
    }
   ],
   "source": [
    "print(f'X_train shape: {X_train.shape}')\n",
    "print(f'y_train shape: {y_train.shape}')"
   ]
  },
  {
   "cell_type": "markdown",
   "metadata": {},
   "source": [
    "Question 1a"
   ]
  },
  {
   "cell_type": "code",
   "execution_count": 3,
   "metadata": {},
   "outputs": [
    {
     "name": "stdout",
     "output_type": "stream",
     "text": [
      "The mean on y_train is -0.0.\n",
      "The mean in y_val is -0.21600851 +/- 0.01290338.\n",
      "The mean on the first 5785 entries in y_train is -0.44247688 +/- 0.01192627.\n"
     ]
    }
   ],
   "source": [
    "#defining a function to calculate standard error\n",
    "def cal_se(data):\n",
    "    std = np.std(data)\n",
    "    se = std/ (len(data)**(1/2))\n",
    "    return se\n",
    "\n",
    "#verifying the mean on the training set is zero\n",
    "print(f'The mean on y_train is {round(np.mean(y_train), 8)}.')\n",
    "print(f'The mean in y_val is {round(np.mean(y_val),8)} +/- {round(cal_se(y_val), 8)}.')\n",
    "\n",
    "print(f'The mean on the first 5785 entries in y_train is {round(np.mean(y_train[:5785]), 8)} +/- {round(cal_se(y_train[:5785]),8)}.')\n",
    "#used 8 decimal places as that is the pattern of the data"
   ]
  },
  {
   "cell_type": "markdown",
   "metadata": {},
   "source": [
    "The standard errors on the mean values of the first 5785 entries of training and the validation dataset suggest that even the edge cases of the mean of the two sets does not meet the overal population mean values. The standard error bars are misleading here because they do not align to what the population mean is??? \n",
    "\n",
    "standard error --> makes it look like we are more certain than we are. "
   ]
  },
  {
   "cell_type": "markdown",
   "metadata": {},
   "source": [
    "Question 1b"
   ]
  },
  {
   "cell_type": "code",
   "execution_count": 4,
   "metadata": {},
   "outputs": [
    {
     "name": "stdout",
     "output_type": "stream",
     "text": [
      "(40754, 373) (5785, 373) (6961, 373)\n",
      "constant columns: [ 59  69 179 189 351]\n",
      "duplicate columns: [ 69  78  79 179 188 189 199 287 351 359]\n"
     ]
    }
   ],
   "source": [
    "isConstant = []\n",
    "isDuplicates = np.array(np.zeros(X_train.shape[1]), dtype='bool') \n",
    "\n",
    "#identify all the constant columns\n",
    "for i in range(X_train.shape[1]) :\n",
    "    isConstant.append((X_train[:,i] == X_train[0][i]).all())\n",
    "\n",
    "#identify all the columns which are duplicates to previous columns\n",
    "for i in range(X_train.shape[1]) :\n",
    "    for k in range(i+1, X_train.shape[1]) :\n",
    "        if isDuplicates[k] == False:\n",
    "            isDuplicates[k] = (X_train[:,i] == X_train[:,k]).all()\n",
    "\n",
    "#create a list with all the columns to remove\n",
    "columns_to_remove = np.unique(np.hstack((np.nonzero(isDuplicates)[0], np.nonzero(isConstant)[0])))\n",
    "\n",
    "#remove these columns and name them modified datasets\n",
    "X_train = np.delete(X_train, columns_to_remove ,1)\n",
    "X_val = np.delete(X_val, columns_to_remove ,1)\n",
    "X_test = np.delete(X_test, columns_to_remove ,1)\n",
    "\n",
    "#check if the shape still aligns to expectations (number of rows stay the same, number of columns are same for all three sets)\n",
    "print(X_train.shape, X_val.shape, X_test.shape)\n",
    "# print list of removed columns\n",
    "print(f'constant columns: {np.nonzero(isConstant)[0]}')\n",
    "print(f'duplicate columns: {np.nonzero(isDuplicates)[0]}')"
   ]
  },
  {
   "cell_type": "markdown",
   "metadata": {},
   "source": [
    "Question 2"
   ]
  },
  {
   "cell_type": "markdown",
   "metadata": {},
   "source": [
    "We want to set up the following matrix equation to solve for the weights and bias of the linear regression model.\n",
    "$$ \\tilde{\\Phi}=\\left[\\begin{matrix} X_{N\\times D} & 1_{N\\times 1}\\\\ \\sqrt{\\alpha}\\mathbb{I}_{D\\times D} & 0_{D\\times 1} \\end{matrix}\\right],\\quad \\underline{\\tilde{w}}=\\left[\\begin{matrix} w_{D\\times 1}\\\\ b\\end{matrix}\\right],\\quad \\underline{\\tilde{y}}=\\left[\\begin{matrix} y_{D\\times 1}\\\\ 0\\end{matrix}\\right] $$\n",
    "$$ E(\\underline{w},b)=(\\tilde{\\Phi}\\underline{\\tilde{w}}-\\underline{\\tilde{y}})^T(\\tilde{\\Phi}\\underline{\\tilde{w}}-\\underline{\\tilde{y}}) $$"
   ]
  },
  {
   "cell_type": "code",
   "execution_count": 5,
   "metadata": {},
   "outputs": [],
   "source": [
    "def fit_linreg(X, yy, alpha):\n",
    "    yy = yy[:, np.newaxis]\n",
    "    # add a column of ones to the X matrix\n",
    "    Phi = np.hstack((X, np.ones((X.shape[0],1))))\n",
    "    # add an identity matrix to the Phi matrix for regularization\n",
    "    # leave the last column as zeros to ignore the bias term\n",
    "    Phi_til = np.vstack((Phi, np.hstack((np.sqrt(alpha)*np.eye(X.shape[1]), np.zeros((X.shape[1],1))))))\n",
    "    # compute the new y vector\n",
    "    yy_til = np.vstack((yy, np.zeros((X.shape[1],1))))\n",
    "    # compute the weights\n",
    "    w = np.linalg.lstsq(Phi_til, yy_til, rcond=None)[0][:,0]\n",
    "    return w[:-1], w[-1]"
   ]
  },
  {
   "cell_type": "code",
   "execution_count": 6,
   "metadata": {},
   "outputs": [],
   "source": [
    "# compute the weighs and bias for the linreg model\n",
    "w_linreg, b_linreg = fit_linreg(X_train, y_train, 30)"
   ]
  },
  {
   "cell_type": "code",
   "execution_count": 7,
   "metadata": {},
   "outputs": [],
   "source": [
    "from ct_support_code import fit_linreg_gradopt\n",
    "# compute the weighs and bias for the linreg_gradopt model\n",
    "w_grad, b_grad = fit_linreg_gradopt(X_train, y_train, 30)"
   ]
  },
  {
   "cell_type": "code",
   "execution_count": 8,
   "metadata": {},
   "outputs": [],
   "source": [
    "def compute_rmse(X, yy, ww, bb):\n",
    "    residuals = X @ ww[:, np.newaxis] + bb - yy[:, np.newaxis]\n",
    "    return np.sqrt(residuals.T @ residuals / len(yy))[0][0]"
   ]
  },
  {
   "cell_type": "code",
   "execution_count": 9,
   "metadata": {},
   "outputs": [
    {
     "name": "stdout",
     "output_type": "stream",
     "text": [
      "RMSE for training linear regression: 0.3567565397204048\n",
      "RMSE for training gradient descent: 0.3567556103401207\n",
      "RMSE for validation linear regression: 0.4230521968394693\n",
      "RMSE for validation gradient descent: 0.4230551058620388\n"
     ]
    }
   ],
   "source": [
    "print(f'RMSE for training linear regression: {compute_rmse(X_train, y_train, w_linreg, b_linreg)}')\n",
    "print(f'RMSE for training gradient descent: {compute_rmse(X_train, y_train, w_grad, b_grad)}')\n",
    "print(f'RMSE for validation linear regression: {compute_rmse(X_val, y_val, w_linreg, b_linreg)}')\n",
    "print(f'RMSE for validation gradient descent: {compute_rmse(X_val, y_val, w_grad, b_grad)}')"
   ]
  },
  {
   "cell_type": "markdown",
   "metadata": {},
   "source": [
    "Question 3"
   ]
  },
  {
   "cell_type": "code",
   "execution_count": 10,
   "metadata": {},
   "outputs": [],
   "source": [
    "from ct_support_code import logreg_cost, minimize_list\n",
    "#write a function to fit logistc regresion using gradient opt\n",
    "def fit_logreg_gradopt(X, yy, alpha):\n",
    "    D = X.shape[1]\n",
    "    args = (X, yy, alpha)\n",
    "    init = (np.zeros(D), np.array(0))\n",
    "    ww, bb = minimize_list(logreg_cost, init, args)\n",
    "    return ww, bb"
   ]
  },
  {
   "cell_type": "code",
   "execution_count": 11,
   "metadata": {},
   "outputs": [],
   "source": [
    "K = 20 # number of thresholded classification problems to fit\n",
    "mx = np.max(y_train); mn = np.min(y_train); hh = (mx-mn)/(K+1)\n",
    "thresholds = np.linspace(mn+hh, mx-hh, num=K, endpoint=True)\n",
    "params = []\n",
    "for kk in range(K):\n",
    "    labels = y_train > thresholds[kk]\n",
    "    # ... fit logistic regression to these labels\n",
    "    params.append(fit_logreg_gradopt(X_train, labels, 30))"
   ]
  },
  {
   "cell_type": "code",
   "execution_count": 12,
   "metadata": {},
   "outputs": [],
   "source": [
    "pred_list_train = []\n",
    "pred_list_val = []\n",
    "\n",
    "#sigmoid function to be used to normalise X\n",
    "def sigmoid_func(x): \n",
    "    return 1/(1+np.exp(-x))\n",
    "\n",
    "#utilise the parameters from the model fitted earlier and apply sigmoid on the predictions\n",
    "for i in range(K):\n",
    "    pred_list_train.append(sigmoid_func(X_train @ params[i][0] + params[i][1]))\n",
    "    pred_list_val.append(sigmoid_func(X_val @ params[i][0] + params[i][1]))\n",
    "    \n",
    "X_train_transform = np.vstack(pred_list_train).T\n",
    "X_val_transform = np.vstack(pred_list_val).T"
   ]
  },
  {
   "cell_type": "code",
   "execution_count": 13,
   "metadata": {},
   "outputs": [],
   "source": [
    "#fit linear regression on the predictions\n",
    "w_train, b_train = fit_linreg(X_train_transform, y_train, 30)"
   ]
  },
  {
   "cell_type": "code",
   "execution_count": 14,
   "metadata": {},
   "outputs": [
    {
     "name": "stdout",
     "output_type": "stream",
     "text": [
      "RMSE for training linear regression: 0.15441150429956377\n",
      "RMSE for training linear regression: 0.25424772979325594\n"
     ]
    }
   ],
   "source": [
    "print(f'RMSE for training linear regression: {compute_rmse(X_train_transform, y_train, w_train, b_train)}')\n",
    "print(f'RMSE for training linear regression: {compute_rmse(X_val_transform, y_val, w_train, b_train)}')"
   ]
  },
  {
   "cell_type": "markdown",
   "metadata": {},
   "source": [
    "# Question 4"
   ]
  },
  {
   "cell_type": "code",
   "execution_count": null,
   "metadata": {},
   "outputs": [],
   "source": []
  },
  {
   "cell_type": "code",
   "execution_count": 43,
   "metadata": {},
   "outputs": [
    {
     "data": {
      "text/plain": [
       "list"
      ]
     },
     "execution_count": 43,
     "metadata": {},
     "output_type": "execute_result"
    }
   ],
   "source": [
    "#fitting a neural networks with random weights \n",
    "from ct_support_code import nn_cost, minimize_list\n",
    "def fit_nn(init, X, yy, alpha):\n",
    "    args = (X, yy, alpha)\n",
    "    ww_bar, bb_bar, V_bar, bk_bar = minimize_list(nn_cost, init, args)\n",
    "    return ww_bar, bb_bar, V_bar, bk_bar\n",
    "\n",
    "input_weights = np.vstack([params[k][0] for k in range(K)])\n",
    "input_biases = np.array((params[k][1] for k in range(K)))\n",
    "\n",
    "init_q3 = [w_train, b_train, input_weights, input_biases]\n",
    "type(init_q3)\n",
    "#new_params = fit_nn(init_q3, X_train, y_train, 30)"
   ]
  },
  {
   "cell_type": "code",
   "execution_count": null,
   "metadata": {},
   "outputs": [],
   "source": []
  },
  {
   "cell_type": "code",
   "execution_count": 30,
   "metadata": {},
   "outputs": [
    {
     "data": {
      "text/plain": [
       "(array([ 3.72131666e-02,  3.85191731e-02,  6.09695788e-02,  2.55051985e-02,\n",
       "        -2.47286359e-01, -8.58959927e-02,  4.81597615e-02,  1.09588642e-01,\n",
       "         6.12431547e-02,  4.38472667e-03,  3.07444459e-02,  2.48259769e-02,\n",
       "         4.26447107e-02, -1.50022539e-04, -1.59717658e-01, -2.83752405e-01,\n",
       "         4.98174444e-02, -4.22221501e-02,  8.75690997e-02,  5.74859554e-02,\n",
       "         4.33683756e-02,  3.56396848e-02,  4.41376702e-02,  1.71934178e-01,\n",
       "         2.83862680e-01, -6.89139542e-01, -1.91489693e-01,  1.86460396e-03,\n",
       "        -1.33449308e-02,  5.13863892e-02,  5.38371598e-02,  5.95809408e-02,\n",
       "         1.01325817e-01,  3.40404513e-01,  3.16187297e-01, -2.85393874e-01,\n",
       "        -1.83488809e-01, -9.56039897e-03, -4.12462395e-02, -6.71461851e-02,\n",
       "         4.29713291e-02,  8.74041524e-02,  1.32973035e-01,  2.91639563e-01,\n",
       "         3.53415274e-01,  2.87345284e-02, -3.56115600e-01, -2.39844073e-01,\n",
       "        -8.42215578e-02, -3.85362379e-02,  3.35726409e-02,  7.26722284e-02,\n",
       "         8.21265517e-02,  1.48007740e-01,  2.21336438e-01,  7.46316918e-02,\n",
       "        -4.60766698e-01, -3.40233419e-03, -3.27017012e-02,  4.09199948e-02,\n",
       "         7.71146123e-02,  8.25758325e-02,  1.38436690e-01,  1.35445964e-01,\n",
       "         1.22586137e-01, -4.03283491e-01,  9.71242311e-02, -3.27074044e-02,\n",
       "         3.62051785e-02,  1.00823049e-01,  1.56666754e-01,  1.46765071e-01,\n",
       "         1.35590607e-01, -9.92971857e-02, -3.51324638e-01, -2.62620452e-01,\n",
       "         3.71167548e-02,  6.35624231e-02,  1.39683082e-01,  3.04379386e-01,\n",
       "         2.09431127e-01, -2.37458739e-01, -2.72381146e-01, -4.52533651e-05,\n",
       "        -4.19294910e-02, -6.79946071e-02,  3.30151152e-02,  3.28240913e-02,\n",
       "         3.65724820e-02,  1.22805561e-01,  6.23788868e-02, -3.53570867e-01,\n",
       "        -8.62016032e-02,  6.44107561e-03, -9.63974064e-03,  1.89703001e-02,\n",
       "         3.23181409e-02,  2.95711677e-02,  5.11023307e-02, -3.91163682e-02,\n",
       "        -1.77895593e-01, -3.54912423e-01,  5.25425827e-02, -7.93058242e-02,\n",
       "         8.39135234e-02,  5.32742942e-02,  4.27089841e-02,  4.36662832e-02,\n",
       "         6.46036023e-02, -4.92169560e-02, -1.30284742e-01, -3.10733218e-01,\n",
       "         6.73710738e-02,  1.01614218e-01,  6.18461436e-02,  4.51642441e-03,\n",
       "        -2.24948447e-02, -3.88579519e-02,  9.54151051e-03, -3.31857711e-02,\n",
       "        -6.72426207e-02, -8.73481610e-02,  5.89333111e-02,  1.03742485e-01,\n",
       "         6.05412594e-02,  4.31109347e-03, -4.60460281e-02, -7.24055235e-02,\n",
       "        -1.02843921e-02,  8.71591108e-03, -1.30886554e-01, -1.18774866e-01,\n",
       "        -1.36515894e-01, -7.92031176e-02,  8.15738724e-02,  5.55599776e-02,\n",
       "         2.60546833e-02, -7.25987983e-02, -3.63797124e-02, -9.19124642e-04,\n",
       "        -1.26410635e-01, -1.12714901e-01, -1.81804234e-01,  4.85485129e-03,\n",
       "        -8.73068489e-03,  3.22184167e-02,  4.18102652e-02,  4.46496557e-02,\n",
       "         3.50379224e-02,  7.16684378e-03, -7.55724653e-02, -1.13121007e-01,\n",
       "        -1.73219314e-02, -1.34321339e-02, -3.96769807e-02, -6.65489860e-02,\n",
       "         4.71189297e-02,  7.20840646e-02,  6.03818104e-02,  5.63358096e-02,\n",
       "        -5.69847943e-02, -1.70506373e-01, -4.07097454e-03, -5.50123762e-02,\n",
       "        -8.44358341e-02, -3.60492708e-02,  6.17498885e-02,  8.64429612e-02,\n",
       "         1.10345876e-01,  5.21143891e-02, -1.03270792e-01, -2.28724917e-01,\n",
       "        -1.09120095e-01, -2.39391400e-01, -2.58670908e-02,  5.05993225e-02,\n",
       "         8.02179125e-02,  1.10950203e-01,  1.16729434e-01, -8.90578474e-02,\n",
       "        -3.95882945e-01, -1.50288676e-01, -1.39673827e-01,  4.86110256e-02,\n",
       "         7.28836481e-02,  7.24484320e-02,  6.14002385e-02, -5.51284233e-03,\n",
       "        -2.16074328e-01, -1.84948866e-01, -9.51553900e-02, -8.43652083e-02,\n",
       "         4.44107974e-02,  4.58441303e-02,  4.04728399e-02,  3.41933453e-02,\n",
       "        -7.77520025e-03, -9.17744664e-02, -3.27167663e-01, -2.33264226e-02,\n",
       "        -4.08029793e-02, -7.16303370e-02,  3.51218356e-02,  4.96189413e-02,\n",
       "         8.17564553e-02,  7.06947380e-02, -3.21807989e-02, -2.42799679e-01,\n",
       "        -3.29648328e-01,  2.99576023e-03, -1.18399597e-02,  4.13111186e-02,\n",
       "         3.44223337e-02,  2.65052090e-02,  1.35541701e-02,  8.61074957e-03,\n",
       "        -1.29671688e-01, -1.86927149e-01, -2.27108853e-02, -4.07143297e-02,\n",
       "         8.54875748e-02,  5.62330531e-02,  5.25053933e-02,  6.98762973e-02,\n",
       "         7.64933353e-02,  5.43836418e-02, -3.10786928e-01, -6.35538556e-02,\n",
       "         6.63161558e-02,  1.08837903e-01,  5.91778342e-02,  4.21219973e-03,\n",
       "         2.58804811e-02,  3.06611237e-02,  4.39122363e-02,  5.20287818e-02,\n",
       "         5.15680601e-02,  3.20341533e-02,  7.81528491e-02,  3.23715738e-02,\n",
       "         2.71273067e-02,  2.41883750e-02,  3.34693774e-02,  5.82629118e-02,\n",
       "         6.52270594e-02,  1.71124614e-02, -1.44456309e-02,  9.66439431e-02,\n",
       "         3.66137074e-02,  5.55462584e-02,  6.74026247e-02,  9.52679762e-02,\n",
       "        -5.00590643e-03, -3.05578337e-02, -6.49947044e-03, -3.57801317e-02,\n",
       "         6.15805563e-02,  1.13870794e-01,  1.36717428e-01,  1.96573785e-01,\n",
       "        -6.25901491e-02,  6.53236738e-02, -5.08884026e-02,  6.92488556e-03,\n",
       "         6.91835716e-02,  1.37899180e-01,  1.59173255e-01,  2.76420576e-01,\n",
       "         2.14290122e-03,  1.45209546e-01, -1.05546145e-01, -2.83601793e-06,\n",
       "         6.47135997e-02,  1.12786209e-01,  1.36373067e-01,  1.18713196e-01,\n",
       "         4.47924203e-03,  2.22340795e-01, -5.39904066e-02,  4.98987211e-02,\n",
       "         5.60936841e-02,  6.67680947e-02,  8.90018798e-04,  6.02893225e-02,\n",
       "         5.55111722e-02, -6.49016734e-03, -3.57820564e-02,  3.37028059e-02,\n",
       "         3.85935043e-02,  3.72425189e-02,  3.87704646e-02,  4.05921436e-02,\n",
       "         1.25601173e-02, -6.11078867e-03,  8.29868219e-02,  3.18117422e-02,\n",
       "         4.06853330e-02,  3.64602654e-02,  3.62560670e-02,  3.84138276e-02,\n",
       "         1.17647401e-02,  7.83949128e-02,  3.37308088e-02,  3.64054761e-02,\n",
       "         5.11304840e-02, -7.76196802e-02,  7.09435206e-02,  6.17755555e-02,\n",
       "         2.36542457e-02,  7.90744344e-02,  3.37985903e-02,  3.73988389e-02,\n",
       "         5.00527552e-02,  1.58342637e-02, -5.55937491e-02,  1.27917828e-01,\n",
       "         3.16993480e-02, -2.47642288e-03,  8.36271007e-02,  4.24683701e-02,\n",
       "         5.07675554e-02,  4.90091237e-02, -3.08553026e-02,  9.85433729e-02,\n",
       "         1.53732539e-02, -1.57664934e-02, -3.62902753e-02,  4.21383642e-02,\n",
       "         4.94077600e-02,  5.55356322e-02,  5.40011026e-02,  3.21781801e-02,\n",
       "        -5.54701214e-03, -5.18812224e-02,  4.58753405e-02,  3.43378432e-02,\n",
       "         2.54376869e-02,  8.50648187e-03,  4.72237679e-03, -6.66927271e-03,\n",
       "        -3.04809445e-02,  3.08529246e-03,  2.54182599e-02,  2.18388133e-02,\n",
       "         3.89187685e-02,  4.34111749e-02,  1.82230981e-02, -1.86343215e-02,\n",
       "        -3.18663254e-02,  2.41699293e-02,  3.77185352e-02,  4.60200780e-02,\n",
       "         5.36690064e-02,  5.24356228e-02, -2.71871765e-02, -2.73634091e-02,\n",
       "        -3.62964284e-02,  2.67289838e-02,  4.41016819e-02,  1.30899576e-02,\n",
       "         8.24332690e-02,  6.52986455e-02,  3.40386957e-02, -1.01562942e-02,\n",
       "         9.69507556e-02,  2.48006745e-02,  4.05213703e-02,  5.02689083e-02,\n",
       "         8.29227360e-02,  1.01718281e-01,  5.36004481e-02,  7.96537203e-02,\n",
       "         3.24047951e-02]),\n",
       " array(6.16244091))"
      ]
     },
     "execution_count": 30,
     "metadata": {},
     "output_type": "execute_result"
    }
   ],
   "source": [
    "params[:][0]"
   ]
  }
 ],
 "metadata": {
  "kernelspec": {
   "display_name": "base",
   "language": "python",
   "name": "python3"
  },
  "language_info": {
   "codemirror_mode": {
    "name": "ipython",
    "version": 3
   },
   "file_extension": ".py",
   "mimetype": "text/x-python",
   "name": "python",
   "nbconvert_exporter": "python",
   "pygments_lexer": "ipython3",
   "version": "3.11.4"
  }
 },
 "nbformat": 4,
 "nbformat_minor": 2
}
